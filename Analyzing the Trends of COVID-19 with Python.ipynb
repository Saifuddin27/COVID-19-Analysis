{
 "cells": [
  {
   "cell_type": "code",
   "execution_count": 2,
   "id": "ae9f02df",
   "metadata": {},
   "outputs": [
    {
     "data": {
      "text/html": [
       "<div>\n",
       "<style scoped>\n",
       "    .dataframe tbody tr th:only-of-type {\n",
       "        vertical-align: middle;\n",
       "    }\n",
       "\n",
       "    .dataframe tbody tr th {\n",
       "        vertical-align: top;\n",
       "    }\n",
       "\n",
       "    .dataframe thead th {\n",
       "        text-align: right;\n",
       "    }\n",
       "</style>\n",
       "<table border=\"1\" class=\"dataframe\">\n",
       "  <thead>\n",
       "    <tr style=\"text-align: right;\">\n",
       "      <th></th>\n",
       "      <th>Province/State</th>\n",
       "      <th>Country/Region</th>\n",
       "      <th>Lat</th>\n",
       "      <th>Long</th>\n",
       "      <th>Date</th>\n",
       "      <th>Confirmed</th>\n",
       "      <th>Deaths</th>\n",
       "      <th>Recovered</th>\n",
       "      <th>Active</th>\n",
       "      <th>WHO Region</th>\n",
       "    </tr>\n",
       "  </thead>\n",
       "  <tbody>\n",
       "    <tr>\n",
       "      <th>0</th>\n",
       "      <td>NaN</td>\n",
       "      <td>Afghanistan</td>\n",
       "      <td>33.93911</td>\n",
       "      <td>67.709953</td>\n",
       "      <td>2020-01-22</td>\n",
       "      <td>0</td>\n",
       "      <td>0</td>\n",
       "      <td>0</td>\n",
       "      <td>0</td>\n",
       "      <td>Eastern Mediterranean</td>\n",
       "    </tr>\n",
       "    <tr>\n",
       "      <th>1</th>\n",
       "      <td>NaN</td>\n",
       "      <td>Albania</td>\n",
       "      <td>41.15330</td>\n",
       "      <td>20.168300</td>\n",
       "      <td>2020-01-22</td>\n",
       "      <td>0</td>\n",
       "      <td>0</td>\n",
       "      <td>0</td>\n",
       "      <td>0</td>\n",
       "      <td>Europe</td>\n",
       "    </tr>\n",
       "    <tr>\n",
       "      <th>2</th>\n",
       "      <td>NaN</td>\n",
       "      <td>Algeria</td>\n",
       "      <td>28.03390</td>\n",
       "      <td>1.659600</td>\n",
       "      <td>2020-01-22</td>\n",
       "      <td>0</td>\n",
       "      <td>0</td>\n",
       "      <td>0</td>\n",
       "      <td>0</td>\n",
       "      <td>Africa</td>\n",
       "    </tr>\n",
       "    <tr>\n",
       "      <th>3</th>\n",
       "      <td>NaN</td>\n",
       "      <td>Andorra</td>\n",
       "      <td>42.50630</td>\n",
       "      <td>1.521800</td>\n",
       "      <td>2020-01-22</td>\n",
       "      <td>0</td>\n",
       "      <td>0</td>\n",
       "      <td>0</td>\n",
       "      <td>0</td>\n",
       "      <td>Europe</td>\n",
       "    </tr>\n",
       "    <tr>\n",
       "      <th>4</th>\n",
       "      <td>NaN</td>\n",
       "      <td>Angola</td>\n",
       "      <td>-11.20270</td>\n",
       "      <td>17.873900</td>\n",
       "      <td>2020-01-22</td>\n",
       "      <td>0</td>\n",
       "      <td>0</td>\n",
       "      <td>0</td>\n",
       "      <td>0</td>\n",
       "      <td>Africa</td>\n",
       "    </tr>\n",
       "  </tbody>\n",
       "</table>\n",
       "</div>"
      ],
      "text/plain": [
       "  Province/State Country/Region       Lat       Long       Date  Confirmed  \\\n",
       "0            NaN    Afghanistan  33.93911  67.709953 2020-01-22          0   \n",
       "1            NaN        Albania  41.15330  20.168300 2020-01-22          0   \n",
       "2            NaN        Algeria  28.03390   1.659600 2020-01-22          0   \n",
       "3            NaN        Andorra  42.50630   1.521800 2020-01-22          0   \n",
       "4            NaN         Angola -11.20270  17.873900 2020-01-22          0   \n",
       "\n",
       "   Deaths  Recovered  Active             WHO Region  \n",
       "0       0          0       0  Eastern Mediterranean  \n",
       "1       0          0       0                 Europe  \n",
       "2       0          0       0                 Africa  \n",
       "3       0          0       0                 Europe  \n",
       "4       0          0       0                 Africa  "
      ]
     },
     "execution_count": 2,
     "metadata": {},
     "output_type": "execute_result"
    }
   ],
   "source": [
    "import pandas as pd\n",
    "\n",
    "df = pd.read_csv('covid_19_clean_complete.csv')\n",
    "df.Date = pd.to_datetime(df.Date)\n",
    "df.head()"
   ]
  },
  {
   "cell_type": "code",
   "execution_count": 3,
   "id": "f822b843",
   "metadata": {},
   "outputs": [
    {
     "name": "stderr",
     "output_type": "stream",
     "text": [
      "C:\\Users\\ADMIN\\AppData\\Local\\Temp\\ipykernel_1836\\3705963557.py:1: FutureWarning: The default value of numeric_only in DataFrameGroupBy.sum is deprecated. In a future version, numeric_only will default to False. Either specify numeric_only or select only columns which should be valid for the function.\n",
      "  total = df.groupby(['Date']).sum().loc[:,['Confirmed','Deaths','Recovered']].reset_index()\n"
     ]
    },
    {
     "data": {
      "text/html": [
       "<div>\n",
       "<style scoped>\n",
       "    .dataframe tbody tr th:only-of-type {\n",
       "        vertical-align: middle;\n",
       "    }\n",
       "\n",
       "    .dataframe tbody tr th {\n",
       "        vertical-align: top;\n",
       "    }\n",
       "\n",
       "    .dataframe thead th {\n",
       "        text-align: right;\n",
       "    }\n",
       "</style>\n",
       "<table border=\"1\" class=\"dataframe\">\n",
       "  <thead>\n",
       "    <tr style=\"text-align: right;\">\n",
       "      <th></th>\n",
       "      <th>Date</th>\n",
       "      <th>Confirmed</th>\n",
       "      <th>Deaths</th>\n",
       "      <th>Recovered</th>\n",
       "    </tr>\n",
       "  </thead>\n",
       "  <tbody>\n",
       "    <tr>\n",
       "      <th>0</th>\n",
       "      <td>2020-01-22</td>\n",
       "      <td>555</td>\n",
       "      <td>17</td>\n",
       "      <td>28</td>\n",
       "    </tr>\n",
       "    <tr>\n",
       "      <th>1</th>\n",
       "      <td>2020-01-23</td>\n",
       "      <td>654</td>\n",
       "      <td>18</td>\n",
       "      <td>30</td>\n",
       "    </tr>\n",
       "    <tr>\n",
       "      <th>2</th>\n",
       "      <td>2020-01-24</td>\n",
       "      <td>941</td>\n",
       "      <td>26</td>\n",
       "      <td>36</td>\n",
       "    </tr>\n",
       "    <tr>\n",
       "      <th>3</th>\n",
       "      <td>2020-01-25</td>\n",
       "      <td>1434</td>\n",
       "      <td>42</td>\n",
       "      <td>39</td>\n",
       "    </tr>\n",
       "    <tr>\n",
       "      <th>4</th>\n",
       "      <td>2020-01-26</td>\n",
       "      <td>2118</td>\n",
       "      <td>56</td>\n",
       "      <td>52</td>\n",
       "    </tr>\n",
       "  </tbody>\n",
       "</table>\n",
       "</div>"
      ],
      "text/plain": [
       "        Date  Confirmed  Deaths  Recovered\n",
       "0 2020-01-22        555      17         28\n",
       "1 2020-01-23        654      18         30\n",
       "2 2020-01-24        941      26         36\n",
       "3 2020-01-25       1434      42         39\n",
       "4 2020-01-26       2118      56         52"
      ]
     },
     "execution_count": 3,
     "metadata": {},
     "output_type": "execute_result"
    }
   ],
   "source": [
    "total = df.groupby(['Date']).sum().loc[:,['Confirmed','Deaths','Recovered']].reset_index()\n",
    "\n",
    "total.head()"
   ]
  },
  {
   "cell_type": "code",
   "execution_count": null,
   "id": "6c4ea085",
   "metadata": {},
   "outputs": [],
   "source": [
    "import fbprophet\n",
    "from fbprophet.plot import add_changepoints_to_plot\n",
    "\n",
    "df_prophet= total.rename(columns={'Date': 'ds', 'Confirmed': 'y'})\n",
    "\n",
    "# Make a future dataframe for X days\n",
    "m_global = fbprophet.Prophet(changepoint_prior_scale=0.05,changepoint_range=0.95,\n",
    "                      daily_seasonality=False, \n",
    "                      weekly_seasonality=True,\n",
    "                     mcmc_samples=300)\n",
    "# Add seasonlity\n",
    "m_global.add_seasonality(name='monthly', period=30.5, fourier_order=5)\n",
    "\n",
    "m_global.fit(df_prophet)\n",
    "\n",
    "# Make predictions\n",
    "future_global = m_global.make_future_dataframe(periods=30, freq='D')\n",
    "\n",
    "forecast_global = m_global.predict(future_global)\n",
    "\n",
    "m_global.plot_components(forecast_global);"
   ]
  },
  {
   "cell_type": "code",
   "execution_count": null,
   "id": "bf6df44a",
   "metadata": {},
   "outputs": [],
   "source": [
    "fig =m_global.plot(forecast_global)"
   ]
  },
  {
   "cell_type": "code",
   "execution_count": null,
   "id": "d86914c1",
   "metadata": {},
   "outputs": [],
   "source": [
    "fig = m_global.plot(forecast_global)\n",
    "a = add_changepoints_to_plot(fig.gca(), m_global, forecast_global)"
   ]
  },
  {
   "cell_type": "code",
   "execution_count": null,
   "id": "eaef5eb8",
   "metadata": {},
   "outputs": [],
   "source": [
    "# restrict to one country\n",
    "df_china = df[df['Country/Region']=='Mainland China']\n",
    "total_china = df_china.groupby(['Date']).sum().loc[:,['Confirmed','Deaths','Recovered']].reset_index()\n",
    "total_china.head()"
   ]
  },
  {
   "cell_type": "code",
   "execution_count": null,
   "id": "691e43cf",
   "metadata": {},
   "outputs": [],
   "source": [
    "china_prophet= total_china.rename(columns={'Date': 'ds', 'Confirmed': 'y'})\n",
    "\n",
    "# Make a future dataframe for X days\n",
    "m_china = fbprophet.Prophet(changepoint_prior_scale=0.05,changepoint_range=0.95,\n",
    "                      daily_seasonality=False, \n",
    "                      weekly_seasonality=True,\n",
    "                     mcmc_samples=300)\n",
    "# Add seasonlity\n",
    "m_china.add_seasonality(name='monthly', period=30.5, fourier_order=5)\n",
    "\n",
    "m_china.fit(china_prophet)\n",
    "\n",
    "# Make predictions\n",
    "future_china = m_china.make_future_dataframe(periods=30, freq='D')\n",
    "\n",
    "forecast_china = m_china.predict(future_china)\n",
    "\n",
    "m_china.plot_components(forecast_china);"
   ]
  },
  {
   "cell_type": "code",
   "execution_count": null,
   "id": "13871123",
   "metadata": {},
   "outputs": [],
   "source": [
    "import seaborn as sns\n",
    "import matplotlib.pyplot as plt\n",
    "\n",
    "fig = plt.figure(figsize=(12,6))\n",
    "\n",
    "fig = sns.set_palette('viridis')\n",
    "fig = sns.lineplot(x='Date', y='Confirmed',data = total, label='Global')\n",
    "fig = sns.lineplot(x='Date', y='Confirmed',data = total_china, label='China')\n",
    "\n",
    "sns.despine()\n",
    "plt.legend()\n",
    "plt.tight_layout()\n",
    "plt.xticks(rotation=40)"
   ]
  },
  {
   "cell_type": "code",
   "execution_count": null,
   "id": "7383c82d",
   "metadata": {},
   "outputs": [],
   "source": [
    "print('Percentage of global cases in China: %s' %((total_china.Confirmed.sum()*100)/total.Confirmed.sum()))"
   ]
  },
  {
   "cell_type": "code",
   "execution_count": null,
   "id": "0b49b66d",
   "metadata": {},
   "outputs": [],
   "source": [
    "fig = m_china.plot(forecast_china) "
   ]
  },
  {
   "cell_type": "code",
   "execution_count": null,
   "id": "6a026934",
   "metadata": {},
   "outputs": [],
   "source": [
    "forecast_china[len(total_china):].loc[:,['ds', 'yhat_lower' ,'yhat_upper', 'yhat']].iloc[:7]"
   ]
  },
  {
   "cell_type": "code",
   "execution_count": null,
   "id": "4db56e44",
   "metadata": {},
   "outputs": [],
   "source": [
    "forecast_global[len(total):].loc[:,['ds', 'yhat_lower' ,'yhat_upper', 'yhat']].iloc[:7]"
   ]
  },
  {
   "cell_type": "code",
   "execution_count": null,
   "id": "d57a01c6",
   "metadata": {},
   "outputs": [],
   "source": []
  }
 ],
 "metadata": {
  "kernelspec": {
   "display_name": "Python 3 (ipykernel)",
   "language": "python",
   "name": "python3"
  },
  "language_info": {
   "codemirror_mode": {
    "name": "ipython",
    "version": 3
   },
   "file_extension": ".py",
   "mimetype": "text/x-python",
   "name": "python",
   "nbconvert_exporter": "python",
   "pygments_lexer": "ipython3",
   "version": "3.10.9"
  }
 },
 "nbformat": 4,
 "nbformat_minor": 5
}
